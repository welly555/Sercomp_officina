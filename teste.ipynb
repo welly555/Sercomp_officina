{
 "cells": [
  {
   "cell_type": "code",
   "execution_count": 1,
   "metadata": {},
   "outputs": [],
   "source": [
    "import pandas as pd"
   ]
  },
  {
   "cell_type": "code",
   "execution_count": 38,
   "metadata": {},
   "outputs": [
    {
     "name": "stdout",
     "output_type": "stream",
     "text": [
      "<class 'pandas.core.frame.DataFrame'>\n",
      "RangeIndex: 1006 entries, 0 to 1005\n",
      "Data columns (total 12 columns):\n",
      " #   Column              Non-Null Count  Dtype  \n",
      "---  ------              --------------  -----  \n",
      " 0   Rank                1006 non-null   int64  \n",
      " 1   Title               1006 non-null   object \n",
      " 2   Genre               1006 non-null   object \n",
      " 3   Description         1006 non-null   object \n",
      " 4   Director            1006 non-null   object \n",
      " 5   Actors              1006 non-null   object \n",
      " 6   Year                1005 non-null   float64\n",
      " 7   Runtime (Minutes)   1005 non-null   float64\n",
      " 8   Rating              1006 non-null   float64\n",
      " 9   Votes               1004 non-null   float64\n",
      " 10  Revenue (Millions)  877 non-null    float64\n",
      " 11  Metascore           939 non-null    float64\n",
      "dtypes: float64(6), int64(1), object(5)\n",
      "memory usage: 94.4+ KB\n"
     ]
    }
   ],
   "source": [
    "df = pd.read_csv(\"IMDB-Movie-Data.csv\")\n",
    "df.info()"
   ]
  },
  {
   "cell_type": "code",
   "execution_count": 36,
   "metadata": {},
   "outputs": [
    {
     "name": "stdout",
     "output_type": "stream",
     "text": [
      "<class 'pandas.core.frame.DataFrame'>\n",
      "RangeIndex: 996 entries, 0 to 995\n",
      "Data columns (total 12 columns):\n",
      " #   Column              Non-Null Count  Dtype  \n",
      "---  ------              --------------  -----  \n",
      " 0   Rank                996 non-null    int64  \n",
      " 1   Title               996 non-null    object \n",
      " 2   Genre               996 non-null    object \n",
      " 3   Description         996 non-null    object \n",
      " 4   Director            996 non-null    object \n",
      " 5   Actors              996 non-null    object \n",
      " 6   Year                995 non-null    float64\n",
      " 7   Runtime (Minutes)   995 non-null    float64\n",
      " 8   Rating              996 non-null    float64\n",
      " 9   Votes               994 non-null    float64\n",
      " 10  Revenue (Millions)  867 non-null    float64\n",
      " 11  Metascore           931 non-null    float64\n",
      "dtypes: float64(6), int64(1), object(5)\n",
      "memory usage: 93.5+ KB\n"
     ]
    }
   ],
   "source": [
    "df.drop_duplicates('Rank',keep=False, inplace=True)\n",
    "df = df.reset_index(drop=True)\n",
    "df.info()"
   ]
  },
  {
   "cell_type": "code",
   "execution_count": 33,
   "metadata": {},
   "outputs": [
    {
     "name": "stdout",
     "output_type": "stream",
     "text": [
      "<class 'pandas.core.frame.DataFrame'>\n",
      "RangeIndex: 1006 entries, 0 to 1005\n",
      "Data columns (total 12 columns):\n",
      " #   Column              Non-Null Count  Dtype  \n",
      "---  ------              --------------  -----  \n",
      " 0   Rank                1006 non-null   int64  \n",
      " 1   Title               1006 non-null   object \n",
      " 2   Genre               1006 non-null   object \n",
      " 3   Description         1006 non-null   object \n",
      " 4   Director            1006 non-null   object \n",
      " 5   Actors              1006 non-null   object \n",
      " 6   Year                1005 non-null   float64\n",
      " 7   Runtime (Minutes)   1005 non-null   float64\n",
      " 8   Rating              1006 non-null   float64\n",
      " 9   Votes               1004 non-null   float64\n",
      " 10  Revenue (Millions)  877 non-null    float64\n",
      " 11  Metascore           939 non-null    float64\n",
      "dtypes: float64(6), int64(1), object(5)\n",
      "memory usage: 94.4+ KB\n"
     ]
    }
   ],
   "source": []
  }
 ],
 "metadata": {
  "kernelspec": {
   "display_name": "Python 3",
   "language": "python",
   "name": "python3"
  },
  "language_info": {
   "codemirror_mode": {
    "name": "ipython",
    "version": 3
   },
   "file_extension": ".py",
   "mimetype": "text/x-python",
   "name": "python",
   "nbconvert_exporter": "python",
   "pygments_lexer": "ipython3",
   "version": "3.12.2"
  }
 },
 "nbformat": 4,
 "nbformat_minor": 2
}
